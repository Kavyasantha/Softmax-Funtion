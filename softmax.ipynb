{
 "cells": [
  {
   "cell_type": "code",
   "execution_count": 1,
   "metadata": {
    "colab": {
     "base_uri": "https://localhost:8080/"
    },
    "executionInfo": {
     "elapsed": 36974,
     "status": "ok",
     "timestamp": 1628702012231,
     "user": {
      "displayName": "MANTAS BIRŠKUS",
      "photoUrl": "https://lh3.googleusercontent.com/a-/AOh14Gh4p74VzcLbLKZFYUnmVzxKmHhFZC9ouHcczEsEmQ=s64",
      "userId": "00995227095641424292"
     },
     "user_tz": -180
    },
    "id": "P3kf2DP6QqIf",
    "outputId": "2309b314-ae10-4eab-8e12-b0ccf6adb18b"
   },
   "outputs": [],
   "source": [
    "# Enter the foldername in your Drive where you have saved the unzipped\n",
    "# assignment folder, e.g. 'cs231n/assignments/assignment1/'\n",
    "FOLDERNAME = 'cs231n/assignments/assignment1/'\n",
    "assert FOLDERNAME is not None, \"[!] Enter the foldername.\"\n",
    "\n",
    "# Now that we've mounted your Drive, this ensures that\n",
    "# the Python interpreter of the Colab VM can load\n",
    "# python files from within it.\n",
    "import sys\n",
    "sys.path.append('/Users/kavysan/desktop/project1'.format(FOLDERNAME))\n",
    "\n",
    "# This downloads the CIFAR-10 dataset to your Drive\n",
    "# if it doesn't already exist."
   ]
  },
  {
   "cell_type": "markdown",
   "metadata": {
    "id": "BdgGyC7XQqIn",
    "tags": [
     "pdf-title"
    ]
   },
   "source": [
    "# Softmax exercise\n",
    "\n",
    "*Complete and hand in this completed worksheet (including its outputs and any supporting code outside of the worksheet) with your assignment submission. For more details see the [assignments page](http://vision.stanford.edu/teaching/cs231n/assignments.html) on the course website.*\n",
    "\n",
    "This exercise is analogous to the SVM exercise. You will:\n",
    "\n",
    "- implement a fully-vectorized **loss function** for the Softmax classifier\n",
    "- implement the fully-vectorized expression for its **analytic gradient**\n",
    "- **check your implementation** with numerical gradient\n",
    "- use a validation set to **tune the learning rate and regularization** strength\n",
    "- **optimize** the loss function with **SGD**\n",
    "- **visualize** the final learned weights\n"
   ]
  },
  {
   "cell_type": "code",
   "execution_count": 2,
   "metadata": {
    "executionInfo": {
     "elapsed": 1645,
     "status": "ok",
     "timestamp": 1628702017466,
     "user": {
      "displayName": "MANTAS BIRŠKUS",
      "photoUrl": "https://lh3.googleusercontent.com/a-/AOh14Gh4p74VzcLbLKZFYUnmVzxKmHhFZC9ouHcczEsEmQ=s64",
      "userId": "00995227095641424292"
     },
     "user_tz": -180
    },
    "id": "JfV65fhSQqIp",
    "tags": [
     "pdf-ignore"
    ]
   },
   "outputs": [],
   "source": [
    "import random\n",
    "import numpy as np\n",
    "from cs231n.data_utils import load_CIFAR10\n",
    "import matplotlib.pyplot as plt\n",
    "\n",
    "%matplotlib inline\n",
    "plt.rcParams['figure.figsize'] = (10.0, 8.0) # set default size of plots\n",
    "plt.rcParams['image.interpolation'] = 'nearest'\n",
    "plt.rcParams['image.cmap'] = 'gray'\n",
    "\n",
    "# for auto-reloading extenrnal modules\n",
    "# see http://stackoverflow.com/questions/1907993/autoreload-of-modules-in-ipython\n",
    "%load_ext autoreload\n",
    "%autoreload 2"
   ]
  },
  {
   "cell_type": "code",
   "execution_count": 3,
   "metadata": {
    "colab": {
     "base_uri": "https://localhost:8080/"
    },
    "executionInfo": {
     "elapsed": 10119,
     "status": "ok",
     "timestamp": 1628702141032,
     "user": {
      "displayName": "MANTAS BIRŠKUS",
      "photoUrl": "https://lh3.googleusercontent.com/a-/AOh14Gh4p74VzcLbLKZFYUnmVzxKmHhFZC9ouHcczEsEmQ=s64",
      "userId": "00995227095641424292"
     },
     "user_tz": -180
    },
    "id": "KjRcDRgJQqIs",
    "outputId": "3a59f1ba-648e-4e12-9d04-99b149eab281",
    "tags": [
     "pdf-ignore"
    ]
   },
   "outputs": [
    {
     "name": "stdout",
     "output_type": "stream",
     "text": [
      "Train data shape:  (49000, 3073)\n",
      "Train labels shape:  (49000,)\n",
      "Validation data shape:  (1000, 3073)\n",
      "Validation labels shape:  (1000,)\n",
      "Test data shape:  (1000, 3073)\n",
      "Test labels shape:  (1000,)\n",
      "dev data shape:  (500, 3073)\n",
      "dev labels shape:  (500,)\n"
     ]
    }
   ],
   "source": [
    "def get_CIFAR10_data(num_training=49000, num_validation=1000, num_test=1000, num_dev=500):\n",
    "    \"\"\"\n",
    "    Load the CIFAR-10 dataset from disk and perform preprocessing to prepare\n",
    "    it for the linear classifier. These are the same steps as we used for the\n",
    "    SVM, but condensed to a single function.  \n",
    "    \"\"\"\n",
    "    # Load the raw CIFAR-10 data\n",
    "    cifar10_dir = 'cs231n/datasets/cifar-10-batches-py'\n",
    "    \n",
    "    # Cleaning up variables to prevent loading data multiple times (which may cause memory issue)\n",
    "    try:\n",
    "       del X_train, y_train\n",
    "       del X_test, y_test\n",
    "       print('Clear previously loaded data.')\n",
    "    except:\n",
    "       pass\n",
    "\n",
    "    X_train, y_train, X_test, y_test = load_CIFAR10(cifar10_dir)\n",
    "    \n",
    "    # subsample the data\n",
    "    mask = list(range(num_training, num_training + num_validation))\n",
    "    X_val = X_train[mask]\n",
    "    y_val = y_train[mask]\n",
    "    mask = list(range(num_training))\n",
    "    X_train = X_train[mask]\n",
    "    y_train = y_train[mask]\n",
    "    mask = list(range(num_test))\n",
    "    X_test = X_test[mask]\n",
    "    y_test = y_test[mask]\n",
    "    mask = np.random.choice(num_training, num_dev, replace=False)\n",
    "    X_dev = X_train[mask]\n",
    "    y_dev = y_train[mask]\n",
    "    \n",
    "    # Preprocessing: reshape the image data into rows\n",
    "    X_train = np.reshape(X_train, (X_train.shape[0], -1))\n",
    "    X_val = np.reshape(X_val, (X_val.shape[0], -1))\n",
    "    X_test = np.reshape(X_test, (X_test.shape[0], -1))\n",
    "    X_dev = np.reshape(X_dev, (X_dev.shape[0], -1))\n",
    "    \n",
    "    # Normalize the data: subtract the mean image\n",
    "    mean_image = np.mean(X_train, axis = 0)\n",
    "    X_train -= mean_image\n",
    "    X_val -= mean_image\n",
    "    X_test -= mean_image\n",
    "    X_dev -= mean_image\n",
    "    \n",
    "    # add bias dimension and transform into columns\n",
    "    X_train = np.hstack([X_train, np.ones((X_train.shape[0], 1))])\n",
    "    X_val = np.hstack([X_val, np.ones((X_val.shape[0], 1))])\n",
    "    X_test = np.hstack([X_test, np.ones((X_test.shape[0], 1))])\n",
    "    X_dev = np.hstack([X_dev, np.ones((X_dev.shape[0], 1))])\n",
    "    \n",
    "    return X_train, y_train, X_val, y_val, X_test, y_test, X_dev, y_dev\n",
    "\n",
    "\n",
    "# Invoke the above function to get our data.\n",
    "X_train, y_train, X_val, y_val, X_test, y_test, X_dev, y_dev = get_CIFAR10_data()\n",
    "print('Train data shape: ', X_train.shape)\n",
    "print('Train labels shape: ', y_train.shape)\n",
    "print('Validation data shape: ', X_val.shape)\n",
    "print('Validation labels shape: ', y_val.shape)\n",
    "print('Test data shape: ', X_test.shape)\n",
    "print('Test labels shape: ', y_test.shape)\n",
    "print('dev data shape: ', X_dev.shape)\n",
    "print('dev labels shape: ', y_dev.shape)"
   ]
  },
  {
   "cell_type": "markdown",
   "metadata": {
    "id": "5P238qVtQqIv"
   },
   "source": [
    "## Softmax Classifier\n",
    "\n",
    "Your code for this section will all be written inside `cs231n/classifiers/softmax.py`.\n"
   ]
  },
  {
   "cell_type": "code",
   "execution_count": 4,
   "metadata": {
    "colab": {
     "base_uri": "https://localhost:8080/"
    },
    "executionInfo": {
     "elapsed": 2056,
     "status": "ok",
     "timestamp": 1628702146388,
     "user": {
      "displayName": "MANTAS BIRŠKUS",
      "photoUrl": "https://lh3.googleusercontent.com/a-/AOh14Gh4p74VzcLbLKZFYUnmVzxKmHhFZC9ouHcczEsEmQ=s64",
      "userId": "00995227095641424292"
     },
     "user_tz": -180
    },
    "id": "Xdb47hYyQqIw",
    "outputId": "03d9ef64-2313-44d9-8f63-dd64ff71ec13"
   },
   "outputs": [
    {
     "name": "stdout",
     "output_type": "stream",
     "text": [
      "loss: 2.357668\n",
      "sanity check: 2.302585\n"
     ]
    }
   ],
   "source": [
    "# First implement the naive softmax loss function with nested loops.\n",
    "# Open the file cs231n/classifiers/softmax.py and implement the\n",
    "# softmax_loss_naive function.\n",
    "\n",
    "from cs231n.classifiers.softmax import softmax_loss_naive\n",
    "import time\n",
    "\n",
    "# Generate a random softmax weight matrix and use it to compute the loss.\n",
    "W = np.random.randn(3073, 10) * 0.0001\n",
    "loss, grad = softmax_loss_naive(W, X_dev, y_dev, 0.0)\n",
    "\n",
    "# As a rough sanity check, our loss should be something close to -log(0.1).\n",
    "print('loss: %f' % loss)\n",
    "print('sanity check: %f' % (-np.log(0.1)))"
   ]
  },
  {
   "cell_type": "markdown",
   "metadata": {
    "id": "MvkLp2naQqIy",
    "tags": [
     "pdf-inline"
    ]
   },
   "source": [
    "**Inline Question 1**\n",
    "\n",
    "Why do we expect our loss to be close to -log(0.1)? Explain briefly.**\n",
    "\n",
    "$\\color{blue}{\\textit Your Answer:}$\n",
    "\n",
    "Since we are calculating our loss based on random weights (i.e., we haven't started the \"learning\" process yet), we expect that the initial loss has to be close to -log(0.1) because initially all the classes are equally likely to be chosen. Since CIFAR-10 consists of samples which belong to one of ten classes, the probability of the correct class will be 1/10 = 0.1. The softmax loss is the negative log probability of the correct class, therefore it is -log(0.1).\n",
    "\n"
   ]
  },
  {
   "cell_type": "code",
   "execution_count": 5,
   "metadata": {
    "colab": {
     "base_uri": "https://localhost:8080/"
    },
    "executionInfo": {
     "elapsed": 5423,
     "status": "ok",
     "timestamp": 1628702153243,
     "user": {
      "displayName": "MANTAS BIRŠKUS",
      "photoUrl": "https://lh3.googleusercontent.com/a-/AOh14Gh4p74VzcLbLKZFYUnmVzxKmHhFZC9ouHcczEsEmQ=s64",
      "userId": "00995227095641424292"
     },
     "user_tz": -180
    },
    "id": "4qYGuN_kQqIz",
    "outputId": "d8e68869-c800-41ed-8c93-c6aaa1cfd1e5"
   },
   "outputs": [
    {
     "name": "stdout",
     "output_type": "stream",
     "text": [
      "numerical: 1.575533 analytic: 1.575533, relative error: 4.547793e-08\n",
      "numerical: -0.224499 analytic: -0.224499, relative error: 1.204665e-07\n",
      "numerical: -1.960963 analytic: -1.960963, relative error: 6.805283e-09\n",
      "numerical: -2.466479 analytic: -2.466479, relative error: 7.219402e-09\n",
      "numerical: -1.307222 analytic: -1.307222, relative error: 3.206069e-08\n",
      "numerical: -0.391427 analytic: -0.391427, relative error: 5.425544e-08\n",
      "numerical: 3.321993 analytic: 3.321993, relative error: 1.164296e-08\n",
      "numerical: 0.962568 analytic: 0.962568, relative error: 5.951932e-08\n",
      "numerical: -0.340701 analytic: -0.340701, relative error: 5.741991e-08\n",
      "numerical: 1.091040 analytic: 1.091040, relative error: 5.462685e-08\n",
      "numerical: 0.128610 analytic: 0.128610, relative error: 4.390448e-07\n",
      "numerical: -0.496686 analytic: -0.496686, relative error: 1.387492e-07\n",
      "numerical: -1.710227 analytic: -1.710227, relative error: 1.094057e-08\n",
      "numerical: -1.497047 analytic: -1.497047, relative error: 4.401488e-09\n",
      "numerical: 1.039407 analytic: 1.039407, relative error: 2.804211e-08\n",
      "numerical: -0.939728 analytic: -0.939728, relative error: 3.393390e-08\n",
      "numerical: -1.662757 analytic: -1.662757, relative error: 3.061245e-08\n",
      "numerical: -0.690864 analytic: -0.690864, relative error: 4.843780e-08\n",
      "numerical: 0.557535 analytic: 0.557535, relative error: 7.347453e-09\n",
      "numerical: -3.814723 analytic: -3.814723, relative error: 1.274912e-08\n"
     ]
    }
   ],
   "source": [
    "# Complete the implementation of softmax_loss_naive and implement a (naive)\n",
    "# version of the gradient that uses nested loops.\n",
    "loss, grad = softmax_loss_naive(W, X_dev, y_dev, 0.0)\n",
    "\n",
    "# As we did for the SVM, use numeric gradient checking as a debugging tool.\n",
    "# The numeric gradient should be close to the analytic gradient.\n",
    "from cs231n.gradient_check import grad_check_sparse\n",
    "f = lambda w: softmax_loss_naive(w, X_dev, y_dev, 0.0)[0]\n",
    "grad_numerical = grad_check_sparse(f, W, grad, 10)\n",
    "\n",
    "# similar to SVM case, do another gradient check with regularization\n",
    "loss, grad = softmax_loss_naive(W, X_dev, y_dev, 5e1)\n",
    "f = lambda w: softmax_loss_naive(w, X_dev, y_dev, 5e1)[0]\n",
    "grad_numerical = grad_check_sparse(f, W, grad, 10)"
   ]
  },
  {
   "cell_type": "code",
   "execution_count": 6,
   "metadata": {
    "colab": {
     "base_uri": "https://localhost:8080/"
    },
    "executionInfo": {
     "elapsed": 333,
     "status": "ok",
     "timestamp": 1628702156263,
     "user": {
      "displayName": "MANTAS BIRŠKUS",
      "photoUrl": "https://lh3.googleusercontent.com/a-/AOh14Gh4p74VzcLbLKZFYUnmVzxKmHhFZC9ouHcczEsEmQ=s64",
      "userId": "00995227095641424292"
     },
     "user_tz": -180
    },
    "id": "sbtnkOdmQqI1",
    "outputId": "ebed83f0-ae26-4a99-dd9f-2d86df9d53f4"
   },
   "outputs": [
    {
     "name": "stdout",
     "output_type": "stream",
     "text": [
      "naive loss: 2.357668e+00 computed in 0.055893s\n",
      "vectorized loss: 2.357668e+00 computed in 0.003448s\n",
      "Loss difference: 0.000000\n",
      "Gradient difference: 0.000000\n"
     ]
    }
   ],
   "source": [
    "# Now that we have a naive implementation of the softmax loss function and its gradient,\n",
    "# implement a vectorized version in softmax_loss_vectorized.\n",
    "# The two versions should compute the same results, but the vectorized version should be\n",
    "# much faster.\n",
    "tic = time.time()\n",
    "loss_naive, grad_naive = softmax_loss_naive(W, X_dev, y_dev, 0.000005)\n",
    "toc = time.time()\n",
    "print('naive loss: %e computed in %fs' % (loss_naive, toc - tic))\n",
    "\n",
    "from cs231n.classifiers.softmax import softmax_loss_vectorized\n",
    "tic = time.time()\n",
    "loss_vectorized, grad_vectorized = softmax_loss_vectorized(W, X_dev, y_dev, 0.000005)\n",
    "toc = time.time()\n",
    "print('vectorized loss: %e computed in %fs' % (loss_vectorized, toc - tic))\n",
    "\n",
    "# As we did for the SVM, we use the Frobenius norm to compare the two versions\n",
    "# of the gradient.\n",
    "grad_difference = np.linalg.norm(grad_naive - grad_vectorized, ord='fro')\n",
    "print('Loss difference: %f' % np.abs(loss_naive - loss_vectorized))\n",
    "print('Gradient difference: %f' % grad_difference)"
   ]
  },
  {
   "cell_type": "code",
   "execution_count": 7,
   "metadata": {
    "colab": {
     "base_uri": "https://localhost:8080/"
    },
    "executionInfo": {
     "elapsed": 156602,
     "status": "ok",
     "timestamp": 1628702317944,
     "user": {
      "displayName": "MANTAS BIRŠKUS",
      "photoUrl": "https://lh3.googleusercontent.com/a-/AOh14Gh4p74VzcLbLKZFYUnmVzxKmHhFZC9ouHcczEsEmQ=s64",
      "userId": "00995227095641424292"
     },
     "user_tz": -180
    },
    "id": "tuning",
    "outputId": "3d41103f-4a02-45b7-80b2-323188910280",
    "tags": [
     "code"
    ]
   },
   "outputs": [
    {
     "name": "stdout",
     "output_type": "stream",
     "text": [
      "lr 1.000000e-07 reg 1.000000e+03 train accuracy: 0.246429 val accuracy: 0.221000\n",
      "lr 1.000000e-07 reg 3.250000e+03 train accuracy: 0.266735 val accuracy: 0.244000\n",
      "lr 1.000000e-07 reg 5.500000e+03 train accuracy: 0.290286 val accuracy: 0.281000\n",
      "lr 1.000000e-07 reg 7.750000e+03 train accuracy: 0.316102 val accuracy: 0.319000\n",
      "lr 1.000000e-07 reg 1.000000e+04 train accuracy: 0.326653 val accuracy: 0.345000\n",
      "lr 3.250000e-07 reg 1.000000e+03 train accuracy: 0.320939 val accuracy: 0.311000\n",
      "lr 3.250000e-07 reg 3.250000e+03 train accuracy: 0.373000 val accuracy: 0.388000\n",
      "lr 3.250000e-07 reg 5.500000e+03 train accuracy: 0.374122 val accuracy: 0.394000\n",
      "lr 3.250000e-07 reg 7.750000e+03 train accuracy: 0.361061 val accuracy: 0.369000\n",
      "lr 3.250000e-07 reg 1.000000e+04 train accuracy: 0.349143 val accuracy: 0.363000\n",
      "lr 5.500000e-07 reg 1.000000e+03 train accuracy: 0.370082 val accuracy: 0.382000\n",
      "lr 5.500000e-07 reg 3.250000e+03 train accuracy: 0.380673 val accuracy: 0.400000\n",
      "lr 5.500000e-07 reg 5.500000e+03 train accuracy: 0.363163 val accuracy: 0.382000\n",
      "lr 5.500000e-07 reg 7.750000e+03 train accuracy: 0.359143 val accuracy: 0.370000\n",
      "lr 5.500000e-07 reg 1.000000e+04 train accuracy: 0.341102 val accuracy: 0.357000\n",
      "lr 7.750000e-07 reg 1.000000e+03 train accuracy: 0.390245 val accuracy: 0.396000\n",
      "lr 7.750000e-07 reg 3.250000e+03 train accuracy: 0.383837 val accuracy: 0.386000\n",
      "lr 7.750000e-07 reg 5.500000e+03 train accuracy: 0.367122 val accuracy: 0.384000\n",
      "lr 7.750000e-07 reg 7.750000e+03 train accuracy: 0.356286 val accuracy: 0.363000\n",
      "lr 7.750000e-07 reg 1.000000e+04 train accuracy: 0.349429 val accuracy: 0.349000\n",
      "lr 1.000000e-06 reg 1.000000e+03 train accuracy: 0.396102 val accuracy: 0.392000\n",
      "lr 1.000000e-06 reg 3.250000e+03 train accuracy: 0.374673 val accuracy: 0.377000\n",
      "lr 1.000000e-06 reg 5.500000e+03 train accuracy: 0.367673 val accuracy: 0.363000\n",
      "lr 1.000000e-06 reg 7.750000e+03 train accuracy: 0.355898 val accuracy: 0.356000\n",
      "lr 1.000000e-06 reg 1.000000e+04 train accuracy: 0.354204 val accuracy: 0.364000\n",
      "best validation accuracy achieved during cross-validation: 0.400000\n"
     ]
    }
   ],
   "source": [
    "# Use the validation set to tune hyperparameters (regularization strength and\n",
    "# learning rate). You should experiment with different ranges for the learning\n",
    "# rates and regularization strengths; if you are careful you should be able to\n",
    "# get a classification accuracy of over 0.35 on the validation set.\n",
    "\n",
    "from cs231n.classifiers import Softmax\n",
    "results = {}\n",
    "best_val = -1\n",
    "best_softmax = None\n",
    "\n",
    "################################################################################\n",
    "# TODO:                                                                        #\n",
    "# Use the validation set to set the learning rate and regularization strength. #\n",
    "# This should be identical to the validation that you did for the SVM; save    #\n",
    "# the best trained softmax classifer in best_softmax.                          #\n",
    "################################################################################\n",
    "\n",
    "# Provided as a reference. You may or may not want to change these hyperparameters\n",
    "learning_rates = np.linspace(1e-7, 1e-6, 5)\n",
    "regularization_strengths = np.linspace(1e3, 1e4, 5)\n",
    "\n",
    "# *****START OF YOUR CODE (DO NOT DELETE/MODIFY THIS LINE)*****\n",
    "\n",
    "import itertools\n",
    "\n",
    "for lr, reg in itertools.product(learning_rates, regularization_strengths):\n",
    "    # Create Softmax and train it \n",
    "    softmax = Softmax()\n",
    "    softmax.train(X_train, y_train, lr, reg, num_iters=1000)\n",
    "\n",
    "    # Compute training and validation sets accuracies and append to the dictionary\n",
    "    y_train_pred, y_val_pred = softmax.predict(X_train), softmax.predict(X_val)\n",
    "    results[(lr, reg)] = np.mean(y_train == y_train_pred), np.mean(y_val == y_val_pred)\n",
    "\n",
    "    # Save if validation accuracy is the best\n",
    "    if results[(lr, reg)][1] > best_val:\n",
    "        best_val = results[(lr, reg)][1]\n",
    "        best_softmax = softmax\n",
    "\n",
    "# *****END OF YOUR CODE (DO NOT DELETE/MODIFY THIS LINE)*****\n",
    "    \n",
    "# Print out results.\n",
    "for lr, reg in sorted(results):\n",
    "    train_accuracy, val_accuracy = results[(lr, reg)]\n",
    "    print('lr %e reg %e train accuracy: %f val accuracy: %f' % (\n",
    "                lr, reg, train_accuracy, val_accuracy))\n",
    "    \n",
    "print('best validation accuracy achieved during cross-validation: %f' % best_val)"
   ]
  },
  {
   "cell_type": "code",
   "execution_count": 9,
   "metadata": {
    "colab": {
     "base_uri": "https://localhost:8080/"
    },
    "executionInfo": {
     "elapsed": 521,
     "status": "ok",
     "timestamp": 1628702390237,
     "user": {
      "displayName": "MANTAS BIRŠKUS",
      "photoUrl": "https://lh3.googleusercontent.com/a-/AOh14Gh4p74VzcLbLKZFYUnmVzxKmHhFZC9ouHcczEsEmQ=s64",
      "userId": "00995227095641424292"
     },
     "user_tz": -180
    },
    "id": "test",
    "outputId": "b3875280-0269-4af2-9018-5d36e2f1c8c5"
   },
   "outputs": [
    {
     "name": "stdout",
     "output_type": "stream",
     "text": [
      "softmax on raw pixels final test set accuracy: 0.374000\n"
     ]
    }
   ],
   "source": [
    "# evaluate on test set\n",
    "# Evaluate the best softmax on test set\n",
    "y_test_pred = best_softmax.predict(X_test)\n",
    "test_accuracy = np.mean(y_test == y_test_pred)\n",
    "print('softmax on raw pixels final test set accuracy: %f' % (test_accuracy, ))"
   ]
  },
  {
   "cell_type": "markdown",
   "metadata": {
    "id": "7XRz3934QqI8",
    "tags": [
     "pdf-inline"
    ]
   },
   "source": [
    "**Inline Question 2** - *True or False*\n",
    "\n",
    "Suppose the overall training loss is defined as the sum of the per-datapoint loss over all training examples. It is possible to add a new datapoint to a training set that would leave the SVM loss unchanged, but this is not the case with the Softmax classifier loss.\n",
    "\n",
    "$\\color{blue}{\\textit Your Answer:}$\n",
    "\n",
    "_True_\n",
    "\n",
    "$\\color{blue}{\\textit Your Explanation:}$\n",
    "\n",
    "As long as the SVM loss of the new datapoint is zero, the SVM loss would be unaffected. This would be the case if its incorrect classes satisfy the margin, i.e., the scores of the incorrect class is below the score of the correct class by atleast delta. Assume the following: (i) the delta for SVM is 1, (ii) the correct class is #0 and, (iii) we add a new datapoint #3 that leads to scores [3,1,2], then the SVM loss for the new datapoint will be 0 (and the overall SVM loss would be unchanged) because it is below the score of the correct class by atleast delta, i.e., max(0, 1 - 3 + 1) + max(0, 2 - 3 + 1) = 0.\n",
    "\n",
    "Unlike SVM, the Softmax classifier will assume a larger loss because the addition of a new datapoint will ultimately reduce the score of the correct class after normalization which would affect the loss negatively (i.e., lesser the score of the correct class, more the loss). This is because the Softmax classifier considers all the individual scores in the calculation of its loss while the SVM loss does not take into account the individual scores as long as the incorrect classes have scores that are below that of the correct class by atleast delta. Put differently, how far below the scores of the incorrect classes are compared to that of the correct class (as long as they are atleast delta apart) is not a point of consideration for SVM, unlike Softmax."
   ]
  },
  {
   "cell_type": "code",
   "execution_count": 10,
   "metadata": {
    "colab": {
     "base_uri": "https://localhost:8080/",
     "height": 380
    },
    "executionInfo": {
     "elapsed": 884,
     "status": "ok",
     "timestamp": 1628702405825,
     "user": {
      "displayName": "MANTAS BIRŠKUS",
      "photoUrl": "https://lh3.googleusercontent.com/a-/AOh14Gh4p74VzcLbLKZFYUnmVzxKmHhFZC9ouHcczEsEmQ=s64",
      "userId": "00995227095641424292"
     },
     "user_tz": -180
    },
    "id": "boBdWAtvQqI9",
    "outputId": "a95f2d20-c1c3-4b8f-bc3b-66633537910a"
   },
   "outputs": [
    {
     "data": {
      "image/png": "[encoded data removed]",
      "text/plain": [
       "<Figure size 720x576 with 10 Axes>"
      ]
     },
     "metadata": {
      "needs_background": "light"
     },
     "output_type": "display_data"
    }
   ],
   "source": [
    "# Visualize the learned weights for each class\n",
    "w = best_softmax.W[:-1,:] # strip out the bias\n",
    "w = w.reshape(32, 32, 3, 10)\n",
    "\n",
    "w_min, w_max = np.min(w), np.max(w)\n",
    "\n",
    "classes = ['plane', 'car', 'bird', 'cat', 'deer', 'dog', 'frog', 'horse', 'ship', 'truck']\n",
    "for i in range(10):\n",
    "    plt.subplot(2, 5, i + 1)\n",
    "    \n",
    "    # Rescale the weights to be between 0 and 255\n",
    "    wimg = 255.0 * (w[:, :, :, i].squeeze() - w_min) / (w_max - w_min)\n",
    "    plt.imshow(wimg.astype('uint8'))\n",
    "    plt.axis('off')\n",
    "    plt.title(classes[i])"
   ]
  },
  {
   "cell_type": "code",
   "execution_count": null,
   "metadata": {
    "id": "F7arxMQyQqI_"
   },
   "outputs": [],
   "source": []
  }
 ],
 "metadata": {
  "colab": {
   "collapsed_sections": [],
   "name": "softmax.ipynb",
   "provenance": []
  },
  "kernelspec": {
   "display_name": "Python 3",
   "language": "python",
   "name": "python3"
  },
  "language_info": {
   "codemirror_mode": {
    "name": "ipython",
    "version": 3
   },
   "file_extension": ".py",
   "mimetype": "text/x-python",
   "name": "python",
   "nbconvert_exporter": "python",
   "pygments_lexer": "ipython3",
   "version": "3.8.3"
  }
 },
 "nbformat": 4,
 "nbformat_minor": 1
}
